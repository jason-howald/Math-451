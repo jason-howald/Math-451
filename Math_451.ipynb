{
  "nbformat": 4,
  "nbformat_minor": 0,
  "metadata": {
    "colab": {
      "name": "Math-451.ipynb",
      "provenance": [],
      "collapsed_sections": [],
      "toc_visible": true,
      "authorship_tag": "ABX9TyO8zbpVkYdHS8QT4Wuz1gK6",
      "include_colab_link": true
    },
    "kernelspec": {
      "name": "python3",
      "display_name": "Python 3"
    }
  },
  "cells": [
    {
      "cell_type": "markdown",
      "metadata": {
        "id": "view-in-github",
        "colab_type": "text"
      },
      "source": [
        "<a href=\"https://colab.research.google.com/github/jason-howald/Math-451/blob/master/Math_451.ipynb\" target=\"_parent\"><img src=\"https://colab.research.google.com/assets/colab-badge.svg\" alt=\"Open In Colab\"/></a>"
      ]
    },
    {
      "cell_type": "markdown",
      "metadata": {
        "id": "yIYhbtF7bF4h",
        "colab_type": "text"
      },
      "source": [
        "# Course Resources\n"
      ]
    },
    {
      "cell_type": "markdown",
      "metadata": {
        "id": "yyhfM5cGbPdF",
        "colab_type": "text"
      },
      "source": [
        "## Homework\n"
      ]
    },
    {
      "cell_type": "markdown",
      "metadata": {
        "id": "kdn5GoNObisi",
        "colab_type": "text"
      },
      "source": [
        "| Set        | Due           | Assignment  |\n",
        "| ---- |:-------------:| -----:|\n",
        "| 1      | Friday, 2020-01-31 | Problems 1.2 and 1.8, page 5 (pdf page 17) |\n",
        "| 2      | Friday, 2020-02-07 |  TBA |\n"
      ]
    },
    {
      "cell_type": "markdown",
      "metadata": {
        "id": "BF3Z2O4aU5LE",
        "colab_type": "text"
      },
      "source": [
        "# The Peano Axioms"
      ]
    },
    {
      "cell_type": "markdown",
      "metadata": {
        "id": "LX1Z3jP1dkjb",
        "colab_type": "text"
      },
      "source": [
        "The axioms appear in **Arithmetices principia, nova methodo exposita** (The principles of arithmetic, presented by a new method; 1889) by Giuseppe Peano.\n",
        "\n",
        "1. $1 \\in {\\mathbb N}$. \n",
        "2. $n \\in {\\mathbb N} \\to n+1 \\in {\\mathbb N}$\n",
        "3. $n,m \\in {\\mathbb N} \\to (m=n \\leftrightarrow m+1=n+1)$\n",
        "4. $n \\in N \\to n+1 \\neq 1$\n",
        "5. $[A \\in \\operatorname{SET} \\,\\land\\, 1 \\in A \\,\\land\\, (\\forall x \\enspace x \\in A \\to x+1 \\in A)] \\to A = {\\mathbb N}$\n",
        "\n"
      ]
    },
    {
      "cell_type": "markdown",
      "metadata": {
        "id": "NRj-cz01oU6P",
        "colab_type": "text"
      },
      "source": [
        "\n",
        "## Caveats\n",
        "\n"
      ]
    },
    {
      "cell_type": "markdown",
      "metadata": {
        "id": "Y-7WYRMGoWT3",
        "colab_type": "text"
      },
      "source": [
        "\n",
        "* This system is 130 years old.\n",
        "* Peano gives nine axioms. Most modern authors omit four omitted because they describe equality. These are now considered purely logical axioms.\n",
        "* Notation has changed dramatically. The original form is unintelligible to most modern students!\n",
        "* Modern authors including Wikipedia now begin with $0 \\in {\\mathbb N}$."
      ]
    },
    {
      "cell_type": "markdown",
      "metadata": {
        "id": "bHnYM73zU5NQ",
        "colab_type": "text"
      },
      "source": [
        "## Questions for discussion\n"
      ]
    },
    {
      "cell_type": "markdown",
      "metadata": {
        "id": "GSd_LAilonFW",
        "colab_type": "text"
      },
      "source": [
        "\n",
        "1. What was Peano trying to do?\n",
        "2. Does anything appear to be missing?\n",
        "3. Does anything seem unnecessary?\n",
        "4. Does anything seem wrong with the axioms? or unintelligible?\n"
      ]
    },
    {
      "cell_type": "markdown",
      "metadata": {
        "id": "KGJvrXwpU4UL",
        "colab_type": "text"
      },
      "source": [
        "## Takeaway messages"
      ]
    },
    {
      "cell_type": "markdown",
      "metadata": {
        "id": "DzkJjaHPU4X3",
        "colab_type": "text"
      },
      "source": [
        "1. The axioms form half a page in a 36-page paper. They are only the seed of the work!\n",
        "2. Peano's work makes induction the central exhibit of the Museum of Arithmetic. Induction generates everything else -- addition, multiplication, exponentiation -- from the humble successor.\n",
        "3. Peano's fifth, like Euclid's fifth, is controversial, not because we doubt it but because it is an axiom of sets as much as of arithmetic.\n",
        "4. Induction is tremendously important."
      ]
    },
    {
      "cell_type": "markdown",
      "metadata": {
        "id": "BFmPybOWrB0-",
        "colab_type": "text"
      },
      "source": [
        "## Practical Significance -- We must be proficient with induction."
      ]
    },
    {
      "cell_type": "markdown",
      "metadata": {
        "id": "HfV3R7JksCT6",
        "colab_type": "text"
      },
      "source": [
        "**Philosophical note:** Is induction a \"Principle\" (the Principle of Mathematical Induction, or PMI) or a \"proof technique\"? Those who believe \"Principle\" (e.g. Dr. Person) will teach unified PMI and ask you to cite it at the end of a proof (e.g., \"By the PMI, the proof is finished.\") Those who believe \"proof technique\" (e.g. Dr. Howald) will teach induction as a proof strategy and ask you to say \"by induction\" instead. In actual practice it makes little difference.\n"
      ]
    },
    {
      "cell_type": "markdown",
      "metadata": {
        "id": "6Fo5f7HgvMII",
        "colab_type": "text"
      },
      "source": [
        "**General Advice:** \n",
        "  \n",
        "  1. Identify a variable in the statement (with potential values in ${\\mathbb N}$) on which you can induct. Say \"We will induct on [that variable]\". Often it's n.\n",
        "  2. Try values 1, 2, 3 for that variable. Check those cases. Write a careful simple proof of case 1 (\"base case\"). You may use 0 as a base case!\n",
        "  3. Try to connect cases 4 and 3, or cases 10 and 11.\n",
        "  4. Now let n take a generic value. (Say \"Let $n \\in {\\mathbb N}$\", meaning \"Let's now talk about a single fixed but arbitrary natural number, calling it $n$.\")\n",
        "    -  Assume case n \n",
        "    -  Set up case n+1\n",
        "    -  Prove case n+1 using case n.\n",
        "  5. Say \"by induction...\" (\"by PMI\" if needed) and conclude."
      ]
    },
    {
      "cell_type": "markdown",
      "metadata": {
        "id": "ghCqMduArGx6",
        "colab_type": "text"
      },
      "source": [
        "**Problem 1: The Geometric Sum**  For $r \\in {\\mathbb R}$ and $n \\in {\\mathbb N}$:\n",
        "\n",
        "$$ 1 + r + r^2 + \\ldots + r^n = \\frac{1-r^{n+1}}{1-r}$$"
      ]
    },
    {
      "cell_type": "markdown",
      "metadata": {
        "id": "lSPi21DuyAhx",
        "colab_type": "text"
      },
      "source": [
        "**Problem 2: Sums of Cubes**\n",
        "\n",
        "$$1^3 + 2^3 + 3^3 + \\ldots + n^3 = (1+2+3+ \\ldots +n)^2$$"
      ]
    },
    {
      "cell_type": "markdown",
      "metadata": {
        "id": "-ZUvb-iIyT0z",
        "colab_type": "text"
      },
      "source": [
        "**Problem 3: Divisiblity**\n",
        "\n",
        "$$6^k + 4  \\,\\text { is divisible by }\\, 5.$$ "
      ]
    },
    {
      "cell_type": "markdown",
      "metadata": {
        "id": "U9BVifsWzUiM",
        "colab_type": "text"
      },
      "source": [
        "**Problem 4: Existence of Prime Factorization:**  Every whole number can be written as a product of prime numbers.\n",
        "\n",
        "(Is this true as phrased?)\n",
        "\n",
        "(For this we will need **strong** induction.)"
      ]
    },
    {
      "cell_type": "code",
      "metadata": {
        "id": "b92ZzKOsb-t1",
        "colab_type": "code",
        "colab": {}
      },
      "source": [
        ""
      ],
      "execution_count": 0,
      "outputs": []
    }
  ]
}