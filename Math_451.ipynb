{
  "nbformat": 4,
  "nbformat_minor": 0,
  "metadata": {
    "colab": {
      "name": "Math-451.ipynb",
      "provenance": [],
      "collapsed_sections": [
        "a7DrEasRus9b"
      ],
      "include_colab_link": true
    },
    "kernelspec": {
      "name": "python3",
      "display_name": "Python 3"
    }
  },
  "cells": [
    {
      "cell_type": "markdown",
      "metadata": {
        "id": "view-in-github",
        "colab_type": "text"
      },
      "source": [
        "<a href=\"https://colab.research.google.com/github/jason-howald/Math-451/blob/master/Math_451.ipynb\" target=\"_parent\"><img src=\"https://colab.research.google.com/assets/colab-badge.svg\" alt=\"Open In Colab\"/></a>"
      ]
    },
    {
      "cell_type": "markdown",
      "metadata": {
        "colab_type": "text",
        "id": "j09AbmBffWmT"
      },
      "source": [
        "# Course Resources\n"
      ]
    },
    {
      "cell_type": "markdown",
      "metadata": {
        "id": "GymW8TK-eXFX",
        "colab_type": "text"
      },
      "source": [
        "## Textbook\n"
      ]
    },
    {
      "cell_type": "markdown",
      "metadata": {
        "id": "QZdZu_hyerrn",
        "colab_type": "text"
      },
      "source": [
        "\n",
        "\n",
        "[Elementary Analysis, The Theory of Calculus](https://suny-pot.primo.exlibrisgroup.com/permalink/01SUNY_POT/17u5udo/alma991058566971104801), by Kenneth Ross (download available)"
      ]
    },
    {
      "cell_type": "markdown",
      "metadata": {
        "colab_type": "text",
        "id": "MwbfuDrLfWmc"
      },
      "source": [
        "## Homework\n"
      ]
    },
    {
      "cell_type": "markdown",
      "metadata": {
        "colab_type": "text",
        "id": "6TYVfRMufWmd"
      },
      "source": [
        "| Set        | Due           | Assignment  |\n",
        "| ---- |:-------------:| -----:|\n",
        "| 1      | Friday, 2020-01-31 | Problems 1.2 and 1.8, page 5 (pdf page 17) |\n",
        "| 2      | Friday, 2020-02-07 |  Problems 2.2 and 2.4 using the rational roots theorem.  |\n",
        "| 3 | Friday, 2020-02-14 | Problems 3.1 and 3.2 on ordered fields. |\n",
        "| 4 | Friday, 2020-02-21 | Problems 3.7 and 3.8 on ordered fields. |\n"
      ]
    },
    {
      "cell_type": "markdown",
      "metadata": {
        "id": "G50Hq6olepqY",
        "colab_type": "text"
      },
      "source": [
        "## Attendance App"
      ]
    },
    {
      "cell_type": "markdown",
      "metadata": {
        "id": "NzBI2vPJesfb",
        "colab_type": "text"
      },
      "source": [
        "Link: [howald-attendance](https://howald-attendance.firebaseapp.com/)"
      ]
    },
    {
      "cell_type": "markdown",
      "metadata": {
        "id": "BF3Z2O4aU5LE",
        "colab_type": "text"
      },
      "source": [
        "# The Peano Axioms"
      ]
    },
    {
      "cell_type": "markdown",
      "metadata": {
        "id": "LX1Z3jP1dkjb",
        "colab_type": "text"
      },
      "source": [
        "The axioms appear in **Arithmetices principia, nova methodo exposita** (The principles of arithmetic, presented by a new method; 1889) by Giuseppe Peano.\n",
        "\n",
        "1. $1 \\in {\\mathbb N}$. \n",
        "2. $n \\in {\\mathbb N} \\to n+1 \\in {\\mathbb N}$\n",
        "3. $n,m \\in {\\mathbb N} \\to (m=n \\leftrightarrow m+1=n+1)$\n",
        "4. $n \\in N \\to n+1 \\neq 1$\n",
        "5. $[A \\in \\operatorname{SET} \\,\\land\\, 1 \\in A \\,\\land\\, (\\forall x \\enspace x \\in A \\to x+1 \\in A)] \\to A = {\\mathbb N}$\n",
        "\n"
      ]
    },
    {
      "cell_type": "markdown",
      "metadata": {
        "id": "NRj-cz01oU6P",
        "colab_type": "text"
      },
      "source": [
        "\n",
        "## Caveats\n",
        "\n"
      ]
    },
    {
      "cell_type": "markdown",
      "metadata": {
        "id": "Y-7WYRMGoWT3",
        "colab_type": "text"
      },
      "source": [
        "\n",
        "* This system is 130 years old.\n",
        "* Peano gives nine axioms. Most modern authors omit four omitted because they describe equality. These are now considered purely logical axioms.\n",
        "* Notation has changed dramatically. The original form is unintelligible to most modern students!\n",
        "* Modern authors including Wikipedia now begin with $0 \\in {\\mathbb N}$."
      ]
    },
    {
      "cell_type": "markdown",
      "metadata": {
        "id": "bHnYM73zU5NQ",
        "colab_type": "text"
      },
      "source": [
        "## Questions for discussion\n"
      ]
    },
    {
      "cell_type": "markdown",
      "metadata": {
        "id": "GSd_LAilonFW",
        "colab_type": "text"
      },
      "source": [
        "\n",
        "1. What was Peano trying to do?\n",
        "2. Does anything appear to be missing?\n",
        "3. Does anything seem unnecessary?\n",
        "4. Does anything seem wrong with the axioms? or unintelligible?\n"
      ]
    },
    {
      "cell_type": "markdown",
      "metadata": {
        "id": "KGJvrXwpU4UL",
        "colab_type": "text"
      },
      "source": [
        "## Takeaway messages"
      ]
    },
    {
      "cell_type": "markdown",
      "metadata": {
        "id": "DzkJjaHPU4X3",
        "colab_type": "text"
      },
      "source": [
        "1. The axioms form half a page in a 36-page paper. They are only the seed of the work!\n",
        "2. Peano's work makes induction the central exhibit of the Museum of Arithmetic. Induction generates everything else -- addition, multiplication, exponentiation -- from the humble successor.\n",
        "3. Peano's fifth, like Euclid's fifth, is controversial, not because we doubt it but because it is an axiom of sets as much as of arithmetic.\n",
        "4. Induction is tremendously important."
      ]
    },
    {
      "cell_type": "markdown",
      "metadata": {
        "id": "BFmPybOWrB0-",
        "colab_type": "text"
      },
      "source": [
        "## Practical Significance -- We must be proficient with induction."
      ]
    },
    {
      "cell_type": "markdown",
      "metadata": {
        "id": "HfV3R7JksCT6",
        "colab_type": "text"
      },
      "source": [
        "**Philosophical note:** Is induction a \"Principle\" (the Principle of Mathematical Induction, or PMI) or a \"proof technique\"? Those who believe \"Principle\" (e.g. Dr. Person) will teach a unified PMI and ask you to cite it at the end of a proof (e.g., \"By the PMI, the proof is finished.\") Those who believe \"proof technique\" (e.g. Dr. Howald) will teach induction as a proof strategy and ask you to say \"by induction\" instead. In actual practice it makes little difference.\n"
      ]
    },
    {
      "cell_type": "markdown",
      "metadata": {
        "id": "6Fo5f7HgvMII",
        "colab_type": "text"
      },
      "source": [
        "**General Advice:** \n",
        "  \n",
        "  1. Identify a variable in the statement (with potential values in ${\\mathbb N}$) on which you can induct. Say \"We will induct on [that variable]\". Often it's n.\n",
        "  2. Try values 1, 2, 3 for that variable. Check those cases. Write a careful simple proof of case 1 (\"base case\"). You may use 0 as a base case!\n",
        "  3. Try to connect cases 4 and 3, or cases 10 and 11.\n",
        "  4. Now let n take a generic value. (Say \"Let $n \\in {\\mathbb N}$\", meaning \"Let's now talk about a single fixed but arbitrary natural number, calling it $n$.\")\n",
        "    -  Assume case n \n",
        "    -  Set up case n+1\n",
        "    -  Prove case n+1 using case n.\n",
        "  5. Say \"by induction...\" (\"by PMI\" if needed) and conclude."
      ]
    },
    {
      "cell_type": "markdown",
      "metadata": {
        "id": "ghCqMduArGx6",
        "colab_type": "text"
      },
      "source": [
        "**Problem 1: The Geometric Sum**  For $r \\in {\\mathbb R}$ and $n \\in {\\mathbb N}$:\n",
        "\n",
        "$$ 1 + r + r^2 + \\ldots + r^n = \\frac{1-r^{n+1}}{1-r}$$"
      ]
    },
    {
      "cell_type": "markdown",
      "metadata": {
        "id": "gZZpeKzdLqUT",
        "colab_type": "text"
      },
      "source": [
        "**Problem 2: Sums of Numbers**\n",
        "\n",
        "$$1 + 2 + 3 + \\ldots + n = \\frac{n(n+1)}{2}$$"
      ]
    },
    {
      "cell_type": "markdown",
      "metadata": {
        "id": "lSPi21DuyAhx",
        "colab_type": "text"
      },
      "source": [
        "**Problem 3: Sums of Cubes**\n",
        "\n",
        "$$1^3 + 2^3 + 3^3 + \\ldots + n^3 = (1+2+3+ \\ldots +n)^2$$"
      ]
    },
    {
      "cell_type": "markdown",
      "metadata": {
        "id": "-ZUvb-iIyT0z",
        "colab_type": "text"
      },
      "source": [
        "**Problem 4: Divisiblity**\n",
        "\n",
        "$$6^k + 4  \\,\\text { is divisible by }\\, 5.$$ "
      ]
    },
    {
      "cell_type": "markdown",
      "metadata": {
        "id": "U9BVifsWzUiM",
        "colab_type": "text"
      },
      "source": [
        "**Problem 5: Existence of Prime Factorization:**  Every whole number can be written as a product of prime numbers.\n",
        "\n",
        "(Is this true as phrased?)\n",
        "\n",
        "(For this we will need **strong** induction.)"
      ]
    },
    {
      "cell_type": "markdown",
      "metadata": {
        "id": "VNA1fVCpugF4",
        "colab_type": "text"
      },
      "source": [
        "# Rational Solutions"
      ]
    },
    {
      "cell_type": "markdown",
      "metadata": {
        "id": "mKI-5jqPvULo",
        "colab_type": "text"
      },
      "source": [
        "## A warm-up exercise"
      ]
    },
    {
      "cell_type": "markdown",
      "metadata": {
        "id": "MuyxLxDAukOF",
        "colab_type": "text"
      },
      "source": [
        "Write a definition of the mathematical symbol $\\displaystyle \\sqrt{c}$ which is correct in all cases. \n",
        "\n",
        "**Your answers:**\n",
        "\n",
        "1. The square root of $c$, where $c \\geq 0 $ is equal to a number $a \\geq 0$, where $a*a=c$ or $a^2=c$\n",
        "2. The square root of c ($c \\geq 0$) is equal to a nonnegative number which, when multiplied by itself, equals $c$."
      ]
    },
    {
      "cell_type": "markdown",
      "metadata": {
        "id": "a7DrEasRus9b",
        "colab_type": "text"
      },
      "source": [
        "## Spoilers "
      ]
    },
    {
      "cell_type": "markdown",
      "metadata": {
        "id": "DxQotBLUuymC",
        "colab_type": "text"
      },
      "source": [
        "Let $c \\geq 0$. Is it equivalent to say that $\\displaystyle  \\sqrt{c}$ is...\n",
        " $$\\sqrt{c} = \\text{ Any nonnegative solution to the equation } x^2 - c = 0$$"
      ]
    },
    {
      "cell_type": "markdown",
      "metadata": {
        "id": "367JHbFgvSSr",
        "colab_type": "text"
      },
      "source": [
        "## Analysis of the definition"
      ]
    },
    {
      "cell_type": "markdown",
      "metadata": {
        "id": "9k6IRoDivbMU",
        "colab_type": "text"
      },
      "source": [
        "**Question 1:** Based on your definition, is it obvious that $\\sqrt{2}$ *exists*?\n",
        "\n",
        "**Question 2:** Based on your definition, is it obvious that there is *only one* $\\sqrt{2}$? \n",
        "\n",
        "**Question 3:** How would you define $\\sqrt[3]{2}$?"
      ]
    },
    {
      "cell_type": "markdown",
      "metadata": {
        "id": "4BTmXM59va_8",
        "colab_type": "text"
      },
      "source": [
        "## Simple proof: $\\sqrt{2}$ is irrational."
      ]
    },
    {
      "cell_type": "markdown",
      "metadata": {
        "id": "g3TTu-S1Nssi",
        "colab_type": "text"
      },
      "source": [
        "Suppose $\\sqrt{2}$were rational. Then $\\sqrt{2} = p/q$ for integers $p$ and $q$. Then \n",
        "\n",
        "\\begin{align}\n",
        "\\sqrt{2} &= \\frac{p}{q}\\\\\n",
        "2 &= \\frac{p^2}{q^2}\\\\\n",
        "2q^2 &= p^2\\\\\n",
        "\\end{align}\n",
        "\n",
        "It follows that $p^2$ is even, so $p$ is even, so $p^2$ is divisible by $4$, so $q^2$ is even, so $q$ is even.\n",
        "\n",
        "So... so $p$ and $q$ are both even. So what?"
      ]
    },
    {
      "cell_type": "markdown",
      "metadata": {
        "id": "q-5Ndyu4Nsjo",
        "colab_type": "text"
      },
      "source": [
        "## The Rational Roots Theorem\n",
        "\n",
        "A generalization of the technique above.\n",
        "\n",
        "**Theorem:** Let $f(x) = c_nx^n + \\ldots + c_1x + c_0 \\in {\\mathbb Z}[x]$ be a polynomial with integer coefficients, where $c_n \\neq 0$ and $c_0 \\neq 0$. If $p$ has a rational root $r$, then $r$ can be written $p/q$ where $p | c_0$ and $q | c_n$.\n",
        "\n",
        "**Proof:** If $f(x)$ has a rational root $\\frac{p}{q}$, we plug it in and clear denominators. Every term but the zeroeth is divisible by $p$, and every term but the nth is divisible by $q$. \n",
        "\n",
        "**Notes:** The polynomial has to have all integer coefficients. It does not apply to, say, $x^2 + \\frac23 x + \\frac15=0$. If the coefficients are rational however, we may clear denominators by multiplication and apply the theorem.\n",
        "\n",
        "**Examples**\n",
        "1. Prove that $\\sqrt[3]{17}$ is not rational.\n",
        "\n",
        "2. Prove that $\\sqrt{2+\\sqrt{3}}+5$ is irrational.\n",
        "\n",
        "3. Prove that $1+\\sqrt{\\frac78}$ is irrational.\n"
      ]
    },
    {
      "cell_type": "markdown",
      "metadata": {
        "id": "7WA9x4lRNsa-",
        "colab_type": "text"
      },
      "source": [
        "# Theory of an Ordered Field"
      ]
    },
    {
      "cell_type": "markdown",
      "metadata": {
        "id": "LLxNzIBcWoGQ",
        "colab_type": "text"
      },
      "source": [
        "\n",
        "\n",
        "\n",
        "**Definition:** An **ordered field** is a set with the structures:\n",
        "\n",
        "  1. A distinguished Element $0$\n",
        "  2. A distinguished Element $1$\n",
        "  3. An operation $+$\n",
        "  4. An operation $\\cdot$ (often implicit as in the notation \"$xy$\")\n",
        "  5. A relation $\\leq$\n",
        "\n",
        "satisfying axioms:\n",
        "\n",
        "- A1: $a+(b+c)= (a+b)+c$ (Additive Associativity) \n",
        "- A2: $a+b = b+a$ (Additive Commutativity) \n",
        "- A3: $a+0 = a$ (Additive Identity)\n",
        "- A4: $\\forall a \\enspace \\exists b \\enspace  a+b=0$ (Additive Inverse, written $b = -a$) \n",
        "- M1 $a(bc) = (ab)c$ (Multiplicative Associativity)\n",
        "- M2 $ab = ba$ (Multiplicative Commutativity)\n",
        "- M3 $1a = a1 = a$ (Multiplicative Identity)\n",
        "- M4: $\\forall a \\enspace a \\neq 0 \\implies \\exists b \\enspace ab=1$ (Multiplicative Inverse, written $b = a^{-1}$)\n",
        "- DL: $a(b+c) = ab+ac$ (Left Distribution)\n",
        "- O1: $a \\leq b$ or $b \\leq a$ (Connexity or sometimes \"totality\")\n",
        "- O2: $a \\leq b \\leq a \\implies a=b$ (Antisymmetry)\n",
        "- O3: $a \\leq b \\leq c \\implies a \\leq c$ (Transitivity)\n",
        "- O4: $a \\leq b \\implies a+c \\leq b+c$ (Translation invariance)\n",
        "- O5: $(a \\leq b \\,\\land\\, 0 \\leq c) \\implies ac \\leq bc$  (Positive scaling)\n"
      ]
    },
    {
      "cell_type": "markdown",
      "metadata": {
        "id": "4-J1g6sfWoER",
        "colab_type": "text"
      },
      "source": [
        "**Question 1** What systems satisfy all of these axioms?\n",
        "\n",
        "**Question 2** What do we call various systems satisfying just some of these axioms?"
      ]
    },
    {
      "cell_type": "markdown",
      "metadata": {
        "id": "Ruwux7FuWoB3",
        "colab_type": "text"
      },
      "source": [
        "## Early consequences"
      ]
    },
    {
      "cell_type": "markdown",
      "metadata": {
        "id": "JbhGW5_Wb--6",
        "colab_type": "text"
      },
      "source": [
        "Theorems 3.1 and 3.2 list familiar features of the real number system. All these statements can be derived from the axioms of an ordered field.\n",
        "\n",
        "Add to 3.1 the property $-a = (-1)a$ Which of the basic properties can you prove?"
      ]
    },
    {
      "cell_type": "markdown",
      "metadata": {
        "id": "KumuWEf0cXVo",
        "colab_type": "text"
      },
      "source": [
        "## Absolute value"
      ]
    },
    {
      "cell_type": "markdown",
      "metadata": {
        "id": "oeHkz9zzcaqz",
        "colab_type": "text"
      },
      "source": [
        "The absolute value operation is not described in the ordered field axioms, because it can be defined in terms of them:\n",
        "\n",
        "**Definition:** Let $a$ be an element of an ordered field. We define $|a|$ to be:\n",
        "\n",
        "$$|a| = \\begin{cases} a & 0 \\leq a \\\\ -a &  a \\leq 0 \\end{cases}$$\n",
        "\n",
        "Notice that the definition defines $|a|$ twice if $a=0$ but since $-0=0$ it does not contradict itself.\n",
        "\n",
        "**Theorem: (3.5)** \n",
        "  - $|a| \\geq 0$\n",
        "  - $|ab| = |a||b|$\n",
        "  - $-|a| \\leq a \\leq |a|$\n",
        "  - $|a+b| \\leq |a|+|b|$"
      ]
    },
    {
      "cell_type": "markdown",
      "metadata": {
        "id": "fggTPDkmo2Dr",
        "colab_type": "text"
      },
      "source": [
        ""
      ]
    },
    {
      "cell_type": "code",
      "metadata": {
        "id": "JoXinbNgcWWa",
        "colab_type": "code",
        "colab": {}
      },
      "source": [
        ""
      ],
      "execution_count": 0,
      "outputs": []
    }
  ]
}