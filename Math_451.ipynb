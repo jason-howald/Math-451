{
  "nbformat": 4,
  "nbformat_minor": 0,
  "metadata": {
    "colab": {
      "name": "Math-451.ipynb",
      "provenance": [],
      "collapsed_sections": [
        "j09AbmBffWmT",
        "BF3Z2O4aU5LE",
        "VNA1fVCpugF4",
        "a7DrEasRus9b",
        "7WA9x4lRNsa-",
        "9HpbR9fsIdNN"
      ],
      "toc_visible": true,
      "include_colab_link": true
    },
    "kernelspec": {
      "name": "python3",
      "display_name": "Python 3"
    }
  },
  "cells": [
    {
      "cell_type": "markdown",
      "metadata": {
        "id": "view-in-github",
        "colab_type": "text"
      },
      "source": [
        "<a href=\"https://colab.research.google.com/github/jason-howald/Math-451/blob/master/Math_451.ipynb\" target=\"_parent\"><img src=\"https://colab.research.google.com/assets/colab-badge.svg\" alt=\"Open In Colab\"/></a>"
      ]
    },
    {
      "cell_type": "markdown",
      "metadata": {
        "colab_type": "text",
        "id": "j09AbmBffWmT"
      },
      "source": [
        "# Course Resources\n"
      ]
    },
    {
      "cell_type": "markdown",
      "metadata": {
        "id": "GymW8TK-eXFX",
        "colab_type": "text"
      },
      "source": [
        "## Textbook\n"
      ]
    },
    {
      "cell_type": "markdown",
      "metadata": {
        "id": "QZdZu_hyerrn",
        "colab_type": "text"
      },
      "source": [
        "\n",
        "\n",
        "[Elementary Analysis, The Theory of Calculus](https://suny-pot.primo.exlibrisgroup.com/permalink/01SUNY_POT/17u5udo/alma991058566971104801), by Kenneth Ross (download available)"
      ]
    },
    {
      "cell_type": "markdown",
      "metadata": {
        "colab_type": "text",
        "id": "MwbfuDrLfWmc"
      },
      "source": [
        "## Homework\n"
      ]
    },
    {
      "cell_type": "markdown",
      "metadata": {
        "colab_type": "text",
        "id": "6TYVfRMufWmd"
      },
      "source": [
        "| Set        | Due           | Assignment  |\n",
        "| ---- |:-------------:| -----:|\n",
        "| 1      | Friday, 2020-01-31 | Problems 1.2 and 1.8, page 5 (pdf page 17) |\n",
        "| 2      | Friday, 2020-02-07 |  Problems 2.2 and 2.4 using the rational roots theorem.  |\n",
        "| 3 | Friday, 2020-02-14 | Problems 3.1 and 3.2 on ordered fields. |\n",
        "| 4 | Friday, 2020-02-21 | Problems 3.7 and 3.8 on ordered fields. | \n",
        "| 5 | Monday, 2020-03-02 | Problems 4.1, 4.2, 4.3, 4.4, doing only the *first five distinct letters of your last name* |\n",
        "| 5 | Friday, 2020-03-06 | Problems 4.5, 4.6, 4.11 |\n",
        "\n"
      ]
    },
    {
      "cell_type": "markdown",
      "metadata": {
        "id": "G50Hq6olepqY",
        "colab_type": "text"
      },
      "source": [
        "## Attendance App"
      ]
    },
    {
      "cell_type": "markdown",
      "metadata": {
        "id": "NzBI2vPJesfb",
        "colab_type": "text"
      },
      "source": [
        "Link: [howald-attendance](https://howald-attendance.firebaseapp.com/)"
      ]
    },
    {
      "cell_type": "markdown",
      "metadata": {
        "id": "BF3Z2O4aU5LE",
        "colab_type": "text"
      },
      "source": [
        "# The Peano Axioms"
      ]
    },
    {
      "cell_type": "markdown",
      "metadata": {
        "id": "LX1Z3jP1dkjb",
        "colab_type": "text"
      },
      "source": [
        "The axioms appear in **Arithmetices principia, nova methodo exposita** (The principles of arithmetic, presented by a new method; 1889) by Giuseppe Peano.\n",
        "\n",
        "1. $1 \\in {\\mathbb N}$. \n",
        "2. $n \\in {\\mathbb N} \\to n+1 \\in {\\mathbb N}$\n",
        "3. $n,m \\in {\\mathbb N} \\to (m=n \\leftrightarrow m+1=n+1)$\n",
        "4. $n \\in N \\to n+1 \\neq 1$\n",
        "5. $[A \\in \\operatorname{SET} \\,\\land\\, 1 \\in A \\,\\land\\, (\\forall x \\enspace x \\in A \\to x+1 \\in A)] \\to A = {\\mathbb N}$\n",
        "\n"
      ]
    },
    {
      "cell_type": "markdown",
      "metadata": {
        "id": "NRj-cz01oU6P",
        "colab_type": "text"
      },
      "source": [
        "\n",
        "## Caveats\n",
        "\n"
      ]
    },
    {
      "cell_type": "markdown",
      "metadata": {
        "id": "Y-7WYRMGoWT3",
        "colab_type": "text"
      },
      "source": [
        "\n",
        "* This system is 130 years old.\n",
        "* Peano gives nine axioms. Most modern authors omit four omitted because they describe equality. These are now considered purely logical axioms.\n",
        "* Notation has changed dramatically. The original form is unintelligible to most modern students!\n",
        "* Modern authors including Wikipedia now begin with $0 \\in {\\mathbb N}$."
      ]
    },
    {
      "cell_type": "markdown",
      "metadata": {
        "id": "bHnYM73zU5NQ",
        "colab_type": "text"
      },
      "source": [
        "## Questions for discussion\n"
      ]
    },
    {
      "cell_type": "markdown",
      "metadata": {
        "id": "GSd_LAilonFW",
        "colab_type": "text"
      },
      "source": [
        "\n",
        "1. What was Peano trying to do?\n",
        "2. Does anything appear to be missing?\n",
        "3. Does anything seem unnecessary?\n",
        "4. Does anything seem wrong with the axioms? or unintelligible?\n"
      ]
    },
    {
      "cell_type": "markdown",
      "metadata": {
        "id": "KGJvrXwpU4UL",
        "colab_type": "text"
      },
      "source": [
        "## Takeaway messages"
      ]
    },
    {
      "cell_type": "markdown",
      "metadata": {
        "id": "DzkJjaHPU4X3",
        "colab_type": "text"
      },
      "source": [
        "1. The axioms form half a page in a 36-page paper. They are only the seed of the work!\n",
        "2. Peano's work makes induction the central exhibit of the Museum of Arithmetic. Induction generates everything else -- addition, multiplication, exponentiation -- from the humble successor.\n",
        "3. Peano's fifth, like Euclid's fifth, is controversial, not because we doubt it but because it is an axiom of sets as much as of arithmetic.\n",
        "4. Induction is tremendously important."
      ]
    },
    {
      "cell_type": "markdown",
      "metadata": {
        "id": "BFmPybOWrB0-",
        "colab_type": "text"
      },
      "source": [
        "## Practical Significance -- We must be proficient with induction."
      ]
    },
    {
      "cell_type": "markdown",
      "metadata": {
        "id": "HfV3R7JksCT6",
        "colab_type": "text"
      },
      "source": [
        "**Philosophical note:** Is induction a \"Principle\" (the Principle of Mathematical Induction, or PMI) or a \"proof technique\"? Those who believe \"Principle\" (e.g. Dr. Person) will teach a unified PMI and ask you to cite it at the end of a proof (e.g., \"By the PMI, the proof is finished.\") Those who believe \"proof technique\" (e.g. Dr. Howald) will teach induction as a proof strategy and ask you to say \"by induction\" instead. In actual practice it makes little difference.\n"
      ]
    },
    {
      "cell_type": "markdown",
      "metadata": {
        "id": "6Fo5f7HgvMII",
        "colab_type": "text"
      },
      "source": [
        "**General Advice:** \n",
        "  \n",
        "  1. Identify a variable in the statement (with potential values in ${\\mathbb N}$) on which you can induct. Say \"We will induct on [that variable]\". Often it's n.\n",
        "  2. Try values 1, 2, 3 for that variable. Check those cases. Write a careful simple proof of case 1 (\"base case\"). You may use 0 as a base case!\n",
        "  3. Try to connect cases 4 and 3, or cases 10 and 11.\n",
        "  4. Now let n take a generic value. (Say \"Let $n \\in {\\mathbb N}$\", meaning \"Let's now talk about a single fixed but arbitrary natural number, calling it $n$.\")\n",
        "    -  Assume case n \n",
        "    -  Set up case n+1\n",
        "    -  Prove case n+1 using case n.\n",
        "  5. Say \"by induction...\" (\"by PMI\" if needed) and conclude."
      ]
    },
    {
      "cell_type": "markdown",
      "metadata": {
        "id": "ghCqMduArGx6",
        "colab_type": "text"
      },
      "source": [
        "**Problem 1: The Geometric Sum**  For $r \\in {\\mathbb R}$ and $n \\in {\\mathbb N}$:\n",
        "\n",
        "$$ 1 + r + r^2 + \\ldots + r^n = \\frac{1-r^{n+1}}{1-r}$$"
      ]
    },
    {
      "cell_type": "markdown",
      "metadata": {
        "id": "gZZpeKzdLqUT",
        "colab_type": "text"
      },
      "source": [
        "**Problem 2: Sums of Numbers**\n",
        "\n",
        "$$1 + 2 + 3 + \\ldots + n = \\frac{n(n+1)}{2}$$"
      ]
    },
    {
      "cell_type": "markdown",
      "metadata": {
        "id": "lSPi21DuyAhx",
        "colab_type": "text"
      },
      "source": [
        "**Problem 3: Sums of Cubes**\n",
        "\n",
        "$$1^3 + 2^3 + 3^3 + \\ldots + n^3 = (1+2+3+ \\ldots +n)^2$$"
      ]
    },
    {
      "cell_type": "markdown",
      "metadata": {
        "id": "-ZUvb-iIyT0z",
        "colab_type": "text"
      },
      "source": [
        "**Problem 4: Divisiblity**\n",
        "\n",
        "$$6^k + 4  \\,\\text { is divisible by }\\, 5.$$ "
      ]
    },
    {
      "cell_type": "markdown",
      "metadata": {
        "id": "U9BVifsWzUiM",
        "colab_type": "text"
      },
      "source": [
        "**Problem 5: Existence of Prime Factorization:**  Every whole number can be written as a product of prime numbers.\n",
        "\n",
        "(Is this true as phrased?)\n",
        "\n",
        "(For this we will need **strong** induction.)"
      ]
    },
    {
      "cell_type": "markdown",
      "metadata": {
        "id": "VNA1fVCpugF4",
        "colab_type": "text"
      },
      "source": [
        "# Rational Solutions"
      ]
    },
    {
      "cell_type": "markdown",
      "metadata": {
        "id": "mKI-5jqPvULo",
        "colab_type": "text"
      },
      "source": [
        "## A warm-up exercise"
      ]
    },
    {
      "cell_type": "markdown",
      "metadata": {
        "id": "MuyxLxDAukOF",
        "colab_type": "text"
      },
      "source": [
        "Write a definition of the mathematical symbol $\\displaystyle \\sqrt{c}$ which is correct in all cases. \n",
        "\n",
        "**Your answers:**\n",
        "\n",
        "1. The square root of $c$, where $c \\geq 0 $ is equal to a number $a \\geq 0$, where $a*a=c$ or $a^2=c$\n",
        "2. The square root of c ($c \\geq 0$) is equal to a nonnegative number which, when multiplied by itself, equals $c$."
      ]
    },
    {
      "cell_type": "markdown",
      "metadata": {
        "id": "a7DrEasRus9b",
        "colab_type": "text"
      },
      "source": [
        "## Spoilers "
      ]
    },
    {
      "cell_type": "markdown",
      "metadata": {
        "id": "DxQotBLUuymC",
        "colab_type": "text"
      },
      "source": [
        "Let $c \\geq 0$. Is it equivalent to say that $\\displaystyle  \\sqrt{c}$ is...\n",
        " $$\\sqrt{c} = \\text{ Any nonnegative solution to the equation } x^2 - c = 0$$"
      ]
    },
    {
      "cell_type": "markdown",
      "metadata": {
        "id": "367JHbFgvSSr",
        "colab_type": "text"
      },
      "source": [
        "## Analysis of the definition"
      ]
    },
    {
      "cell_type": "markdown",
      "metadata": {
        "id": "9k6IRoDivbMU",
        "colab_type": "text"
      },
      "source": [
        "**Question 1:** Based on your definition, is it obvious that $\\sqrt{2}$ *exists*?\n",
        "\n",
        "**Question 2:** Based on your definition, is it obvious that there is *only one* $\\sqrt{2}$? \n",
        "\n",
        "**Question 3:** How would you define $\\sqrt[3]{2}$?"
      ]
    },
    {
      "cell_type": "markdown",
      "metadata": {
        "id": "4BTmXM59va_8",
        "colab_type": "text"
      },
      "source": [
        "## Simple proof: $\\sqrt{2}$ is irrational."
      ]
    },
    {
      "cell_type": "markdown",
      "metadata": {
        "id": "g3TTu-S1Nssi",
        "colab_type": "text"
      },
      "source": [
        "Suppose $\\sqrt{2}$were rational. Then $\\sqrt{2} = p/q$ for integers $p$ and $q$. Then \n",
        "\n",
        "\\begin{align}\n",
        "\\sqrt{2} &= \\frac{p}{q}\\\\\n",
        "2 &= \\frac{p^2}{q^2}\\\\\n",
        "2q^2 &= p^2\\\\\n",
        "\\end{align}\n",
        "\n",
        "It follows that $p^2$ is even, so $p$ is even, so $p^2$ is divisible by $4$, so $q^2$ is even, so $q$ is even.\n",
        "\n",
        "So... so $p$ and $q$ are both even. So what?"
      ]
    },
    {
      "cell_type": "markdown",
      "metadata": {
        "id": "q-5Ndyu4Nsjo",
        "colab_type": "text"
      },
      "source": [
        "## The Rational Roots Theorem\n",
        "\n",
        "A generalization of the technique above.\n",
        "\n",
        "**Theorem:** Let $f(x) = c_nx^n + \\ldots + c_1x + c_0 \\in {\\mathbb Z}[x]$ be a polynomial with integer coefficients, where $c_n \\neq 0$ and $c_0 \\neq 0$. If $p$ has a rational root $r$, then $r$ can be written $p/q$ where $p | c_0$ and $q | c_n$.\n",
        "\n",
        "**Proof:** If $f(x)$ has a rational root $\\frac{p}{q}$, we plug it in and clear denominators. Every term but the zeroeth is divisible by $p$, and every term but the nth is divisible by $q$. \n",
        "\n",
        "**Notes:** The polynomial has to have all integer coefficients. It does not apply to, say, $x^2 + \\frac23 x + \\frac15=0$. If the coefficients are rational however, we may clear denominators by multiplication and apply the theorem.\n",
        "\n",
        "**Examples**\n",
        "1. Prove that $\\sqrt[3]{17}$ is not rational.\n",
        "\n",
        "2. Prove that $\\sqrt{2+\\sqrt{3}}+5$ is irrational.\n",
        "\n",
        "3. Prove that $1+\\sqrt{\\frac78}$ is irrational.\n"
      ]
    },
    {
      "cell_type": "markdown",
      "metadata": {
        "id": "7WA9x4lRNsa-",
        "colab_type": "text"
      },
      "source": [
        "# Theory of an Ordered Field"
      ]
    },
    {
      "cell_type": "markdown",
      "metadata": {
        "id": "LLxNzIBcWoGQ",
        "colab_type": "text"
      },
      "source": [
        "\n",
        "\n",
        "\n",
        "**Definition:** An **ordered field** is a set with the structures:\n",
        "\n",
        "  1. A distinguished Element $0$\n",
        "  2. A distinguished Element $1$\n",
        "  3. An operation $+$\n",
        "  4. An operation $\\cdot$ (often implicit as in the notation \"$xy$\")\n",
        "  5. A relation $\\leq$\n",
        "\n",
        "satisfying axioms:\n",
        "\n",
        "- A1: $a+(b+c)= (a+b)+c$ (Additive Associativity) \n",
        "- A2: $a+b = b+a$ (Additive Commutativity) \n",
        "- A3: $a+0 = a$ (Additive Identity)\n",
        "- A4: $\\forall a \\enspace \\exists b \\enspace  a+b=0$ (Additive Inverse, written $b = -a$) \n",
        "- M1 $a(bc) = (ab)c$ (Multiplicative Associativity)\n",
        "- M2 $ab = ba$ (Multiplicative Commutativity)\n",
        "- M3 $1a = a1 = a$ (Multiplicative Identity)\n",
        "- M4: $\\forall a \\enspace a \\neq 0 \\implies \\exists b \\enspace ab=1$ (Multiplicative Inverse, written $b = a^{-1}$)\n",
        "- DL: $a(b+c) = ab+ac$ (Left Distribution)\n",
        "- O1: $a \\leq b$ or $b \\leq a$ (Connexity or sometimes \"totality\")\n",
        "- O2: $a \\leq b \\leq a \\implies a=b$ (Antisymmetry)\n",
        "- O3: $a \\leq b \\leq c \\implies a \\leq c$ (Transitivity)\n",
        "- O4: $a \\leq b \\implies a+c \\leq b+c$ (Translation invariance)\n",
        "- O5: $(a \\leq b \\,\\land\\, 0 \\leq c) \\implies ac \\leq bc$  (Positive scaling)\n"
      ]
    },
    {
      "cell_type": "markdown",
      "metadata": {
        "id": "4-J1g6sfWoER",
        "colab_type": "text"
      },
      "source": [
        "**Question 1** What systems satisfy all of these axioms?\n",
        "\n",
        "**Question 2** What do we call various systems satisfying just some of these axioms?"
      ]
    },
    {
      "cell_type": "markdown",
      "metadata": {
        "id": "Ruwux7FuWoB3",
        "colab_type": "text"
      },
      "source": [
        "## Early consequences"
      ]
    },
    {
      "cell_type": "markdown",
      "metadata": {
        "id": "JbhGW5_Wb--6",
        "colab_type": "text"
      },
      "source": [
        "Theorems 3.1 and 3.2 list familiar features of the real number system. All these statements can be derived from the axioms of an ordered field.\n",
        "\n",
        "Add to 3.1 the property $-a = (-1)a$ Which of the basic properties can you prove?"
      ]
    },
    {
      "cell_type": "markdown",
      "metadata": {
        "id": "KumuWEf0cXVo",
        "colab_type": "text"
      },
      "source": [
        "## Absolute value"
      ]
    },
    {
      "cell_type": "markdown",
      "metadata": {
        "id": "oeHkz9zzcaqz",
        "colab_type": "text"
      },
      "source": [
        "The absolute value operation is not described in the ordered field axioms, because it can be defined in terms of them:\n",
        "\n",
        "**Definition:** Let $a$ be an element of an ordered field. We define $|a|$ to be:\n",
        "\n",
        "$$|a| = \\begin{cases} a & 0 \\leq a \\\\ -a &  a \\leq 0 \\end{cases}$$\n",
        "\n",
        "Notice that the definition defines $|a|$ twice if $a=0$ but since $-0=0$ it does not contradict itself.\n",
        "\n",
        "**Theorem: (3.5)** \n",
        "  - $|a| \\geq 0$\n",
        "  - $|ab| = |a||b|$\n",
        "  - $-|a| \\leq a \\leq |a|$\n",
        "  - $|a+b| \\leq |a|+|b|$"
      ]
    },
    {
      "cell_type": "markdown",
      "metadata": {
        "id": "fggTPDkmo2Dr",
        "colab_type": "text"
      },
      "source": [
        ""
      ]
    },
    {
      "cell_type": "code",
      "metadata": {
        "id": "JoXinbNgcWWa",
        "colab_type": "code",
        "colab": {}
      },
      "source": [
        ""
      ],
      "execution_count": 0,
      "outputs": []
    },
    {
      "cell_type": "markdown",
      "metadata": {
        "id": "9HpbR9fsIdNN",
        "colab_type": "text"
      },
      "source": [
        "# Higher-Order Theory of ${\\mathbb R}$"
      ]
    },
    {
      "cell_type": "markdown",
      "metadata": {
        "id": "csSgxsi5IdJ0",
        "colab_type": "text"
      },
      "source": [
        "The axioms of an ordered field are true of the rationals ${\\mathbb Q}$, the reals ${\\mathbb R}$, and several systems of numbers in between, such as the set of algebraic numbers. Just as Peano's fifth axiom (induction) characterizes the structure of ${\\mathbb N}$, our last axiom for ${\\mathbb R}$ finally pins down the exact structure of the real line, distinguishing it from all competing systems. To phrase it we need to think about bounds, maxima, and minima."
      ]
    },
    {
      "cell_type": "markdown",
      "metadata": {
        "id": "-VsGCbMI2moO",
        "colab_type": "text"
      },
      "source": [
        "## Basic Definitions"
      ]
    },
    {
      "cell_type": "markdown",
      "metadata": {
        "id": "n6jSC_QBIdG6",
        "colab_type": "text"
      },
      "source": [
        "**Definition:** Let $S$ be a nonempty subset of an ordered field (the important case is $S \\subseteq {\\mathbb R}$). We define:\n",
        "- A **lower bound** of $S$ is a number $x$ so that:\n",
        "$$\\forall s \\in S \\enspace x \\leq s$$\n",
        "Lower bounds are not unique: If $x$ is a lower bound, then so is any number less than $x$.\n",
        "- An **upper bound** of $S$ is a number $x$ so that:\n",
        "$$\\forall s \\in S \\enspace s \\leq x$$\n",
        "Upper bounds are not unique: If $x$ is an upper bound, then so is any number greater than $x$.\n",
        "- We call $S$ **bounded below** if it has a lower bound, **bounded above** if it has an upper bound, and **bounded** if it has both.\n",
        "- A **minimum** of $S$ is an element $s_0$ so that:\n",
        "$$s_0 \\in S\\, \\text{ and }\\, \\forall s \\in S \\enspace s_0 \\leq s$$ \n",
        "If $S$ has a minimum, then it is unique and is written $\\min(S)$.\n",
        "- A **maximum** of $S$ is an element $s_0$ so that:\n",
        "$$s_0 \\in S\\, \\text{ and }\\, \\forall s \\in S \\enspace s \\leq s_0$$ \n",
        "If $S$ has a maximum, then it is unique and is written $\\max(S)$.\n",
        "- If $S$ is bounded below, an **infimum** (/ˈɪn-fɪ-məm/) of $S$, written $\\inf(S)$, is a maximum among lower bounds of $S$.\n",
        "- If $S$ is bounded above, a **supremum** (/suˈpri-məm/) of $S$, written $\\sup(S)$, is a minimum among upper bounds of $S$.\n"
      ]
    },
    {
      "cell_type": "markdown",
      "metadata": {
        "id": "Qh8VWgc1Icnv",
        "colab_type": "text"
      },
      "source": [
        "**Exercise**: For each subset of ${\\mathbb R}$, identify minimum, maximum, lower bounds, upper bounds, boundedness, infimum, and supremum.\n",
        "\n",
        "1.  $(5,8)$\n",
        "2.  $[5,8]$\n",
        "3.  $(3,\\infty)$\n",
        "4. ${\\mathbb Z}$ (as subset of ${\\mathbb R}$)\n",
        "5. $\\{\\frac1n| n \\in {\\mathbb N}\\}$"
      ]
    },
    {
      "cell_type": "markdown",
      "metadata": {
        "id": "b9KdQUMnNyRu",
        "colab_type": "text"
      },
      "source": [
        "With a little work we can find subsets of the ordered field ${\\mathbb Q}$ which are bounded above but lack a supremum (in ${\\mathbb Q}$). Consider\n",
        "\n",
        "$$S = \\{r \\in {\\mathbb Q} | r^2 < 2\\}.$$\n",
        "\n",
        "This produces the set of all rational numbers in the open interval $(-\\sqrt{2}, \\sqrt{2})$. Among real numbers there is a supremum (why?), but among rational numbers, there is no supremum (why not?). This contrast brings us to the completeness axiom.\n"
      ]
    },
    {
      "cell_type": "markdown",
      "metadata": {
        "id": "AMc7ulf42qnc",
        "colab_type": "text"
      },
      "source": [
        "## Completeness Axiom"
      ]
    },
    {
      "cell_type": "markdown",
      "metadata": {
        "id": "jQlpzlINTglH",
        "colab_type": "text"
      },
      "source": [
        "**Completeness Axiom**: Let $S \\subseteq {\\mathbb R}$. If $S$ is bounded above then $S$ has a supremum.\n",
        "\n",
        "As phrased, the completeness axiom does not address infima. This is because we can prove the corresponding statement about infima:\n",
        "\n",
        "**Theorem:** Let $S \\subseteq {\\mathbb R}$. If $S$ is bounded below, then $S$ has an infimum.\n",
        "\n",
        "**Proof:** We reverse the direction of ${\\mathbb R}$ and apply the completeness axiom. If $S$ is bounded below by the bound $x$, then $\\forall s \\in S \\enspace x \\leq s$. It follows that $\\forall s \\in S \\enspace -s \\leq -x$, so $-x$ is an upper bound for $T = \\{-s | s \\in S\\}$. By completeness, $T$ has a supremum $\\sup(T)$ and it's easy to check that $-\\sup(T)$ is an infimum of $S$."
      ]
    },
    {
      "cell_type": "markdown",
      "metadata": {
        "id": "5VpBV_oY2tT5",
        "colab_type": "text"
      },
      "source": [
        "**Archimedean Principle(s)**\n",
        "\n",
        "1. For any $a \\in {\\mathbb R}$, there is some $n \\in {\\mathbb N}$ with $a<n$. \n",
        "2. For any $\\varepsilon \\in {\\mathbb R}$, if $\\varepsilon > 0$ then there is some $n \\in {\\mathbb N}$ with $\\frac1n<\\varepsilon$. \n",
        "3. For any $a, b \\in {\\mathbb R}$, if $a$ and $b$ are positive then there is some $n \\in {\\mathbb N}$ with $na>b$. \n",
        "\n",
        "**proofs:**\n",
        "1. Suppose for contradiction there were some real number $a \\in {\\mathbb R}$ greater than or equal to every natural. Then $a$ is an upper bound for the set ${\\mathbb N}$. By completeness, ${\\mathbb N}$ has some supremum $s$. This means $s$ is the least of all upper bounds of ${\\mathbb N}$, so $s-1$ is not an upper bound of ${\\mathbb N}$. It follows that $s-1<N$ for some $N \\in {\\mathbb N}$, but then $s < N+1 \\in {\\mathbb N}$, so $s$ itself is not an upper bound for ${\\mathbb N}$ after all. This contradiction shows that no number $a$ can be greater than or equal to every natural. That is, for every $a$ there is a natural number exceeding it.\n",
        "\n",
        "2. Note if $0<\\varepsilon$ then $0 < \\frac1\\varepsilon$. Invoking the first part, we have some natural $n \\in {\\mathbb N}$ with $0 < \\frac1\\varepsilon < n$. Taking reciprocals we have $\\frac1n < \\varepsilon$ as needed.\n",
        "\n",
        "3. Since $a$ is positive, the inequality $na>b$ is equivalent to the inequality $n>b/a$. We may simply choose $n$ greater than $b/a$ by part 1.\n",
        "\n"
      ]
    },
    {
      "cell_type": "markdown",
      "metadata": {
        "id": "qcrC9_MCiXAJ",
        "colab_type": "text"
      },
      "source": [
        "\n",
        "**Denseness (\"Density\") of the rationals**\n",
        "\n",
        "For any $a, b \\in {\\mathbb R}$, if $a<b$ then there is a rational number $r \\in {\\mathbb Q}$ with $a < r < b$.\n",
        "\n",
        "**guided proof for classroom work:**\n",
        "\n",
        "Assume for simplicity that $a$ and $b$ are positive.\n",
        "\n",
        "<blockquote style=\"background-color:yellow\">\n",
        "The Idea: Consider the number sequence $$\\frac{0}{100}, \\frac{1}{100}, \\frac{2}{100}, \\frac{3}{100}, ... $$\n",
        "These *rational* numbers (slowly) get ever larger. Eventually they get large enough to surpass $a$. Each one is only $\\frac{1}{100}$ more than the last, so the first one which surpasses $a$ is still less than $b$.\n",
        "</blockquote>\n",
        "\n",
        "**For classroom discussion:**\n",
        "1. \"The idea\" above as written doesn't work. Illustrate that it doesn't work by choosing specific numbers $a$ and $b$ for which this argument will fail.\n",
        "\n",
        "2. Is there a number $n$ which can be used to replace $100$ above? What properties do we need that number to have, in relation to $a$ and $b$? Is there anything that guarantees such a number exists?\n",
        "\n",
        "3. How do we know that the sequence \n",
        "$$\\frac{1}{n}, \\frac{2}{n}, \\frac{3}{n}, \\ldots$$\n",
        "eventually exceeds $a$?\n",
        "\n",
        "4. How do we know that when the sequence exceeds $a$ it is less than $b$?"
      ]
    },
    {
      "cell_type": "markdown",
      "metadata": {
        "id": "2EAnEaYDiYid",
        "colab_type": "text"
      },
      "source": [
        "**Density of rationals, correct proof:**\n",
        "\n",
        "Assume for simplicity that $0 < a < b$. Choose $n$ so that $\\frac1n < b-a$. \n",
        "Consider the sequence \n",
        "$$\\frac0n, \\frac1n, \\frac2n, \\frac3n, \\ldots$$\n",
        "\n",
        "By the third part of the Archimedean principle (applied to $\\frac1n$ and $a$), there is some number $m \\in {\\mathbb N}$ so that $\\frac{m}{n}>a$. Choose the smallest such $m$. (Any nonempty subset of ${\\mathbb N}$ has a minimum!). Since the \"step size\" $\\frac1n$ is smaller than the distance $b-a$, we expect $\\frac{m}{n}$ to still be less than $b$. To prove it we need to use the minimality of $m$, so consider the failure of $m-1$:\n",
        "\n",
        "Notice $\\frac{m-1}{n} \\leq a$, so $\\frac{m}{n} \\leq a + \\frac1n < a + (b-a) = b$. \n",
        "\n",
        "Thus $a < \\frac{m}{n} < b$ and we have a rational number between $a$ and $b$. \n",
        "\n"
      ]
    },
    {
      "cell_type": "markdown",
      "metadata": {
        "id": "va-1lPhJkymy",
        "colab_type": "text"
      },
      "source": [
        "# Sequences"
      ]
    },
    {
      "cell_type": "markdown",
      "metadata": {
        "id": "YqFJGkFkk05v",
        "colab_type": "text"
      },
      "source": [
        "The list ($\\frac0n, \\frac1n, \\frac2n, \\ldots$) used in the proof of the density of the rationals is our first **infinite sequence**. Sequences are used throughout analysis to model the process of **approach to limit**, which is a central idea in Calculus. \n",
        "\n"
      ]
    },
    {
      "cell_type": "markdown",
      "metadata": {
        "id": "DHGVJoTalPSu",
        "colab_type": "text"
      },
      "source": [
        "## Recall from Calculus\n",
        "\n",
        "**Definition of Derivative** Let $f$ be a function defined at and nearby $a$. The **derivative** of $f$ at $x$, written $f'(a)$, is defined to be\n",
        "\n",
        "$$f'(a) =_{def} \\lim_{x \\to a} \\frac{f(x)-f(a)}{x-a}$$\n",
        "\n",
        "Equivalently,\n",
        "\n",
        "$$f'(a) =_{def} \\lim_{h \\to 0} \\frac{f(a+h)-f(a)}{h}$$\n",
        "\n",
        "**Definition of Integral** Let $f$ be a function defined on an interval $[a,b]$. The **integral** of $f$ from $a$ to $b$, written $\\int_a^b f(x) dx$ is the limit of Riemann sums:\n",
        "\n",
        "$$\\lim_{n \\to \\infty} \\sum_{i=1}^n f(x_i^*) \\Delta x_i$$\n",
        "\n",
        "**Notice:** The core concepts of Calculus are limits. This is why Calculus caused 200 years of confusion before being correctly understood. The goal of this course is to explain what limits are really doing, and the simplest case is the limit of a sequence.\n"
      ]
    },
    {
      "cell_type": "markdown",
      "metadata": {
        "id": "0FwdMuhrpagw",
        "colab_type": "text"
      },
      "source": [
        "## Sequence Notation\n",
        "\n",
        "There are three common ways we write sequences.\n"
      ]
    },
    {
      "cell_type": "markdown",
      "metadata": {
        "id": "Y8nljyo9r4lF",
        "colab_type": "text"
      },
      "source": [
        "\n",
        "### Term Listing:\n",
        "  The individual numbers in a sequence are called **terms**. The simplest way to write a sequence is to list its terms:\n",
        "\n",
        "  - The sequence $\\frac0{100}, \\frac1{100}, \\frac2{100}, \\frac3{100}, \\ldots$\n",
        "  - The sequence $1, \\frac12, \\frac13, \\frac14, \\frac15, \\ldots$\n",
        "  - The sequence $1, 2, 4, 8, 16, \\ldots$\n",
        "  - The sequence $1/2, 2/3, 3/4, 4/5, 5/6, \\ldots$\n",
        "  - The sequence $1, -1, 1, -1, 1, -1, \\ldots$\n",
        "  - The sequence $\\frac{2}{1}, \\frac{3}{3}, \\frac{4}{6}, \\frac{5}{10}, \\ldots$\n",
        "\n",
        "Term listing is simple and direct. But the ellipsis \"$\\ldots$\" requires the reader to read the author's mind: The reader must see the pattern and recognize how it continues. In some cases (e.g., the last) this can be **unfair to the reader**.\n"
      ]
    },
    {
      "cell_type": "markdown",
      "metadata": {
        "id": "vDBzm9WR5s5g",
        "colab_type": "text"
      },
      "source": [
        "\n",
        "### Formula:\n",
        "  It it better to give a sequence by providing an explicit formula for each term. This requires introducing a variable (usually $n$) on which the formula depends, and a range of values $(\\ldots )_{n=0}^\\infty$ for that variable. A formula is essential for reasoning about sequences.\n",
        "\n",
        "  - The sequence $(\\frac{n}{100})_{n=0}^{\\infty}$\n",
        "  - The sequence $(\\frac1n)_{n=1}^\\infty$\n",
        "  - Exercise: Provide formulas for the rest of the term-listed sequences above.\n"
      ]
    },
    {
      "cell_type": "markdown",
      "metadata": {
        "id": "7UQM8L-K5vNv",
        "colab_type": "text"
      },
      "source": [
        "\n",
        "### Index notation:\n",
        "  A formula is needed for computation, but sometimes we need to name the sequence itself, especially if we're combining or comparing multiple sequences. For this we use subscript notation:\n",
        "  - $(a_n)_{n = 0}^\\infty$\n",
        "  - $(b_n)_{n=1}^\\infty$\n",
        "  - $(s_n)_{n=0}^\\infty$\n",
        "\n",
        "Here $a$ is **indexable**, $n$ is an **index**, and $a_n$ is a **term**. The notation $(a_n)_{n = 0}^\\infty$ refers to the entire sequence, with all of its many terms. The initial term of the $a$ sequence is $a_0$. The initial term of the $b$ sequence is $b_1$. For the $a$ sequence, we avoid the phrase \"first term,\" which is confusing. It probably means $a_1$. We can call $a_0$ the \"zeroeth\" term.\n",
        "\n",
        "Indexing is similar to function evaluation: $a$ receives an \"input\" $n$ and yields an \"output\" $a_n$. Often we say that technically $a$ is a function from ${\\mathbb N}$ to ${\\mathbb R}$, but in this context (i.e., an introductory analysis course) not much is made of the functional nature of $a$.\n",
        "\n",
        "  Index notation is more abstract because it doesn't (necessarily) convey a formula. Without a formula it's perfectly useless for computation. We use index notation when reasoning abstractly about sequences. For example \"If a sequence $(a_n)_{n=0}^\\infty$ converges to $A$ and $(b_n)_{n=0}^\\infty$ converges to $B$ then the summed sequence $(a_n+b_n)_{n=0}^\\infty$ converges to $A+B$\".\n",
        "\n"
      ]
    },
    {
      "cell_type": "markdown",
      "metadata": {
        "id": "iLEtYTQT5ydi",
        "colab_type": "text"
      },
      "source": [
        "\n",
        "### Combined notation\n",
        "\n",
        "Index notation and formula notation are easily combined: We often say \n",
        "  - Consider the sequence $(a_n)_{n = 0}^\\infty$ where $a_n = \\frac{n}{100}$. \n",
        "  - Let $(b_n)_{n=1}^\\infty$ be the sequence $b_n = \\frac1n$.\n",
        "  - etc. \n",
        "\n",
        "We also say for example \"Let $a_n = (-1)^n$\", omitting parentheses and the range of values of $n$. This is less precise but still clear. In this case we should somehow clarify the range for $n$: \"Let $a_n = (-1)^n$ for positive integers $n$.\"\n"
      ]
    },
    {
      "cell_type": "markdown",
      "metadata": {
        "id": "cJL4VSyu5zxe",
        "colab_type": "text"
      },
      "source": [
        "\n",
        "### A note on bare indexables\n",
        "\n",
        "If $(a_n)_{n=0}^\\infty$ is a sequence, the bare symbol $a$ must represent *something*, but in early analysis contexts we rarely write \"$a$\" unadorned with an index. This may be a missed opportunity to simplify our mathematical reasoning.\n",
        "\n"
      ]
    },
    {
      "cell_type": "markdown",
      "metadata": {
        "id": "5unXpQri52_R",
        "colab_type": "text"
      },
      "source": [
        "## Limits of Sequences\n",
        "\n",
        "We study sequences for their limits, so I owe you a definition of the limit of a sequence.\n",
        "\n",
        "**Limit Definition:**\n",
        "\n",
        "Let $(s_n)_{n=0}^\\infty$ be a sequence. We say that $s_n$ converges to $L$ if\n",
        "$$\\forall \\varepsilon >0 \\enspace \\exists N \\enspace \\forall n \\in {\\mathbb N}\\enspace  \\left( n > N \\implies |s_n-L| < \\varepsilon \\right)$$\n",
        "This notion has many paraphrasings, all equivalent:\n",
        "  - $(s_n)$ converges to $L$\n",
        "  - $\\displaystyle \\lim_{n \\to \\infty} s_n = L$\n",
        "  - The limit of $s_n$ as $n$ goes to infinity is $L$.\n",
        "  - (informally) $s_n$ approaches $L$.\n",
        "\n",
        "\n",
        "To understand the definition, we work from inside out\n",
        "\n",
        "- $|s_n-L| < \\varepsilon$ means... The distance between the specific term $s_n$ and the limit value $L$ is less than $\\varepsilon$.\n",
        "- $\\forall n \\in {\\mathbb N} \\enspace  \\left( n > N \\implies |s_n-L| < \\varepsilon \\right)$ means... The distance between any term $s_n$ and the limit value $L$ is less than $\\varepsilon$, at least for \"far out\" terms beyond a threshold position $s_N$.\n",
        "- $\\exists N \\enspace \\forall n \\in {\\mathbb N}\\enspace  \\left( n > N \\implies |s_n-L| < \\varepsilon \\right)$ means...\n",
        "We can find a threshold term $s_N$, beyond which the distance between any  term $s_n$ and the limit value $L$ is less than $\\varepsilon$.\n",
        "- $\\forall \\varepsilon >0 \\enspace \\exists N \\enspace \\forall n \\in {\\mathbb N}\\enspace  \\left( n > N \\implies |s_n-L| < \\varepsilon \\right)$ means...\n",
        "For any \"proximity level\" $\\epsilon>0$, there's a threshold term $s_N$, beyond which the distance between any  term $s_n$ and the limit value $L$ is less than $\\varepsilon$. In simple language: \"You wanna get close to $L$? However close ya need, I can get there after skipping some terms.\""
      ]
    },
    {
      "cell_type": "markdown",
      "metadata": {
        "id": "6QJxmKfE_J8i",
        "colab_type": "text"
      },
      "source": [
        "### Memorize that definition!"
      ]
    },
    {
      "cell_type": "markdown",
      "metadata": {
        "id": "m03KVdyo_Szq",
        "colab_type": "text"
      },
      "source": [
        "### Proof theoretically..."
      ]
    },
    {
      "cell_type": "markdown",
      "metadata": {
        "id": "NqqUoD0k_YnK",
        "colab_type": "text"
      },
      "source": [
        "The definition states: $$\\forall \\varepsilon >0 \\enspace \\exists N \\enspace \\forall n \\in {\\mathbb N}\\enspace  \\left( n > N \\implies |s_n-L| < \\varepsilon \\right)$$\n",
        "\n",
        "The logic of the definition directs the logic of a proof. A proof structure takes this form:\n",
        "\n",
        "- Let $\\varepsilon$ be a (an arbitrary) positive number.\n",
        "  - Choose $N = \\underline{\\hspace{1in}}$\n",
        "    - Let $n$ be a (an arbitrary) natural number. \n",
        "      - Assume $n>N$.\n",
        "      - (proof happens, algebra happens)\n",
        "      - Therefore $|s_n-L| < \\varepsilon$\n",
        "\n",
        "You don't need to memorize the \"right\" proof structure. You just need to memorize the definition of the limit, and see how it directs the proof. The hard parts are the algebra -- usually a lot of it! -- where \"proof happens\", and the specific choice of $N$, which is usually filled in after the algebra is understood. \n"
      ]
    },
    {
      "cell_type": "markdown",
      "metadata": {
        "id": "kovBlaJ2Ajvi",
        "colab_type": "text"
      },
      "source": [
        "**A worked example from the text**\n",
        "\n",
        "Prove: \n",
        "$$\\lim_{n \\to \\infty} \\frac{4n^3+3n}{n^3-6} = 4$$\n",
        "\n",
        "Begin with boilerplate:\n",
        "\n",
        "Let $\\varepsilon > 0$. Let $N = \\underline{\\hspace{1in}}$. Let $n \\in {\\mathbb N}$. Assume $n > N$. Then \n",
        "\n",
        "\\begin{align*}\n",
        "\\left|\\frac{4n^3+3n}{n^3-6} - 4\\right| =& \\\\\n",
        " =& \\\\\n",
        " =& \\\\\n",
        " <& \\varepsilon\\\\\n",
        "\\end{align*}\n",
        "\n",
        "We can reach this stage without any thinking, but now the real work begins. We need to complete the chain of equalities and inequalities so that it proves $|s_n-L|<\\varepsilon$. Our inequalities must be consistently of one type:  We allow \"$=$\", \"$\\leq$\", and \"$<$\", but never \"$\\geq$\" or \"$>$\", so that they can chain together. Therefore we may allow the quantity to \"grow\" as we work but not too much!\n",
        "\n",
        "Now we start over to illustrate the work process:\n",
        "\n",
        "Let $\\varepsilon > 0$. Let $N = \\underline{\\hspace{1in}}$. Let $n \\in {\\mathbb N}$. Assume $n > N$. Then \n",
        "\n",
        "\n",
        "\\begin{align*}\n",
        "\\left|\\frac{4n^3+3n}{n^3-6} - 4\\right| =& \\left|\\frac{4n^3+3n}{n^3-6} - \\frac{4(n^3-6)}{n^3-6}\\right| & \\text{common denominator} \\\\\n",
        "=& \\left|\\frac{4n^3+3n}{n^3-6} - \\frac{4n^3-24}{n^3-6}\\right| &  \\\\\n",
        "=& \\left|\\frac{4n^3+3n - 4n^3 + 24}{n^3-6}\\right| & \\text{combine} \\\\\n",
        "=& \\left|\\frac{3n + 24}{n^3-6}\\right| & \\text{simplify} \\\\\n",
        "=& \\frac{3n + 24}{n^3-6} & \\text{provided $n>2$} \\\\\n",
        "\\leq & \\frac{3n + n}{n^3-6} & \\text{provided $n>23$} \\\\\n",
        "= & \\frac{4n}{n^3-6} & \\text{simplify} \\\\\n",
        "\\leq & \\frac{4n}{n^3-\\frac12 n^3} & \\text{provided n>2} \\\\\n",
        "= & \\frac{4n}{\\frac12 n^3} & \\text{simplify} \\\\\n",
        "= & \\frac{8}{n^2} & \\text{simplify} \\\\\n",
        " <& \\varepsilon & \\text{See below}\\\\\n",
        "\\end{align*}\n",
        "\n",
        "At the end we need to solve the simplified inequality $\\frac{8}{n^2}<\\varepsilon$ for $n$:\n",
        "$\\frac{8}{n^2}<\\varepsilon$ is equivalent to $8 < \\varepsilon n^2$, which is equivalent to $\\sqrt{\\frac{8}{\\varepsilon}} < n$, so the last inequality is true provided $\\sqrt{\\frac{8}{\\varepsilon}} < n$.\n",
        "\n",
        "Finally (at the end of our effort but at the logical beginning of the proof!), we choose $N = \\max(\\sqrt{\\frac{8}{\\varepsilon}}, 23)$, which justifies all the requirements built into the algebra above. \n",
        "\n",
        "This method is the best I have found to produce a correct proof which doesn't look like mysterious magic.\n",
        "\n",
        "Notice we have to manage the inequalities very, very carefully. For example, replacing $6$ with $\\frac12n^3$ causes the subtracted turn to grow, which makes the denominator shrink, which makes the fraction grow, which is consistent with the inequality $\\leq$. Even one backwards inequality will spoil the whole enterprise.\n"
      ]
    },
    {
      "cell_type": "markdown",
      "metadata": {
        "id": "RpFbcB-9SqEM",
        "colab_type": "text"
      },
      "source": [
        "### The activity -- proof 1"
      ]
    },
    {
      "cell_type": "markdown",
      "metadata": {
        "id": "wRGG0nlISt7w",
        "colab_type": "text"
      },
      "source": [
        "1. Guess the value of $\\lim_{n \\to \\infty} \\frac{4n-50}{2n+3}$, by any means you like. \n",
        "2. Prove your answer correct, as illustrated above. \n",
        "3. Rewrite your work if necessary for legibility.\n",
        "4. Place letter labels at every significant step of your work, so that others may say \"Here at step h\", etc. \n",
        "5. Share your work with the class.  \n",
        "6. I'll assign teams. Review your teammates' work.\n",
        "7. Give constructive feedback to your teammates. Make sure to say at least one positive thing and one criticism. Phrase criticism with kindness and respect.\n",
        "8. Escalate questions to the professor to foster discussion about our work.\n",
        "9. Consider: How would the work have to change if the denominator were $2n-3$?"
      ]
    },
    {
      "cell_type": "markdown",
      "metadata": {
        "id": "lWUYWCePHpbA",
        "colab_type": "text"
      },
      "source": [
        "### Next activity -- proof 2\n",
        "\n",
        "We also need to prove abstract properties of limits. The first is this:\n",
        "\n",
        "If the sequence $(a_n)_{n=1}^\\infty$ converges to $A$ and the sequence $(b_n)_{n=1}^\\infty$ converges to $B$, then the sequence $(a_n+b_n)_{n=1}^\\infty$ converges to $A+B$.\n",
        "\n",
        "Algebraically speaking, this proof is much easier than the previous, but the proof needs to be much more abstract, and we need to use the limit definition **three times**:\n",
        "- Once because we are assuming a limit: $\\lim_{n \\to \\infty} a_n = A$\n",
        "- Once because we are assuming a limit: $\\lim_{n \\to \\infty} b_n = B$\n",
        "- Once because we are proving a limit: $\\lim_{n \\to \\infty} (a_n+b_n) = A+B$\n",
        "\n",
        "Let's begin in the usual way.  Let $\\varepsilon > 0$. Let $N = \\underline{\\hspace{1in}}$. Let $n \\in {\\mathbb N}$. Assume $n>N$. Then\n",
        "\n",
        "\\begin{align*}\n",
        "  | (a_n+ b_n) - (A+B) | =& \\\\\n",
        "  =& \\\\\n",
        "  <& \\varepsilon \\\\\n",
        "\\end{align*}\n",
        "\n",
        "A bit of simple algebra will take us a long way here:\n",
        "\n",
        "\\begin{align*}\n",
        "  | (a_n+ b_n) - (A+B) | =& | (a_n - A) + (b_n - B) | & \\text{regrouping}\\\\\n",
        "  \\leq & |a_n - A| + |b_n - B| & \\text{triangle inequality}\\\\\n",
        "  < & \\frac{\\varepsilon}{2} + \\frac{\\varepsilon}{2} & \\text{see below*}\\\\\n",
        "  =& \\varepsilon \\\\\n",
        "\\end{align*}\n",
        "\n",
        "*Because $\\displaystyle \\lim_{n \\to \\infty} a_n = A$ and $\\displaystyle \\lim_{n \\to \\infty} b_n = B$, we know \n",
        "$$\\forall \\varepsilon >0 \\enspace \\exists N \\enspace \\forall n \\in {\\mathbb N}\\enspace  \\left( n > N \\implies |a_n-A| < \\varepsilon \\right)$$\n",
        "$$\\forall \\varepsilon >0 \\enspace \\exists N \\enspace \\forall n \\in {\\mathbb N}\\enspace  \\left( n > N \\implies |b_n-B| < \\varepsilon \\right)$$\n",
        "\n",
        "That's **for any** positive number $\\varepsilon$, including half of the fixed (but arbitrary) given number $\\varepsilon$ starting our present proof.\n",
        "\n",
        "We say: \"Let $N_1$ be chosen for $\\varepsilon/2$ in the definition of $\\lim_{n \\to \\infty} a_n $\", meaning that we can safely assume that if $n>N_1$ then $|a_n-A| < \\varepsilon/2$. \n",
        "\n",
        "Furthemore \"Let $N_2$ be chosen for $\\varepsilon/2$ in the definition of $\\lim_{n \\to \\infty} b_n $\". Now if $n>N_2$ we get $|b_n-B| < \\varepsilon/2$. \n",
        "\n",
        "Now how do we get $n$ to exceed both $N_1$ and $N_2$? We choose $N = max(N_1, N_2)$ in the beginning of our proof. The whole proof looks like this:\n",
        "\n",
        "\n"
      ]
    },
    {
      "cell_type": "markdown",
      "metadata": {
        "id": "29KmFgDvLS9R",
        "colab_type": "text"
      },
      "source": [
        "**Proof:** \n",
        "\n",
        "Let $\\varepsilon > 0$. \n",
        "\n",
        "Let $N_1$ be chosen for $\\varepsilon/2$ in the definition of $\\lim_{n \\to \\infty} a_n =A $.\n",
        "\n",
        "Let $N_2$ be chosen for $\\varepsilon/2$ in the definition of $\\lim_{n \\to \\infty} b_n =B $.\n",
        "\n",
        "Let $N = \\max(N_1, N_2)$.\n",
        "\n",
        "Let $n \\in {\\mathbb N}$. Assume $n>N$. Then\n",
        "\n",
        "\\begin{align*}\n",
        "  | (a_n+ b_n) - (A+B) | =& | (a_n - A) + (b_n - B) | & \\text{regrouping}\\\\\n",
        "  \\leq & |a_n - A| + |b_n - B| & \\text{triangle inequality}\\\\\n",
        "  < & \\frac{\\varepsilon}{2} + \\frac{\\varepsilon}{2} & \\text{by choices of $N_1$, $N_2$,  and $N$}\\\\\n",
        "  =& \\varepsilon \\\\\n",
        "\\end{align*}"
      ]
    },
    {
      "cell_type": "code",
      "metadata": {
        "id": "fxC2M5xupcvT",
        "colab_type": "code",
        "colab": {}
      },
      "source": [
        ""
      ],
      "execution_count": 0,
      "outputs": []
    }
  ]
}