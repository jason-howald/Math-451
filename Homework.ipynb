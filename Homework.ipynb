{
  "nbformat": 4,
  "nbformat_minor": 0,
  "metadata": {
    "colab": {
      "name": "Homework.ipynb",
      "provenance": [],
      "collapsed_sections": [],
      "authorship_tag": "ABX9TyNB/HYjlFS0+PVc8xRSxTKi",
      "include_colab_link": true
    },
    "kernelspec": {
      "name": "python3",
      "display_name": "Python 3"
    }
  },
  "cells": [
    {
      "cell_type": "markdown",
      "metadata": {
        "id": "view-in-github",
        "colab_type": "text"
      },
      "source": [
        "<a href=\"https://colab.research.google.com/github/jason-howald/Math-451/blob/master/Homework.ipynb\" target=\"_parent\"><img src=\"https://colab.research.google.com/assets/colab-badge.svg\" alt=\"Open In Colab\"/></a>"
      ]
    },
    {
      "cell_type": "markdown",
      "metadata": {
        "id": "EsaeLOXWZ356",
        "colab_type": "text"
      },
      "source": [
        "#Homework Assignments, Math 451, Spring 2020"
      ]
    },
    {
      "cell_type": "markdown",
      "metadata": {
        "id": "7SoDUrP2Z8Fj",
        "colab_type": "text"
      },
      "source": [
        "| Set        | Due           | Assignment  |\n",
        "| ---- |:-------------:| -----:|\n",
        "| 1      | Friday, 2020-01-31 | Problems 1.2 and 1.8, page 5 (pdf page 17) |\n",
        "| 2      | Friday, 2020-02-07 |  TBA |\n"
      ]
    },
    {
      "cell_type": "markdown",
      "metadata": {
        "id": "kGoGeovHZ8De",
        "colab_type": "text"
      },
      "source": [
        ""
      ]
    }
  ]
}